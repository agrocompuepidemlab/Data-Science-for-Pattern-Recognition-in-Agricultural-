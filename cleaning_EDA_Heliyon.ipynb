{
  "cells": [
    {
      "cell_type": "markdown",
      "source": [
        "#Exploratory data analysis"
      ],
      "metadata": {
        "id": "HLiyVXhG3EHe"
      }
    },
    {
      "cell_type": "code",
      "execution_count": null,
      "metadata": {
        "id": "8m_KYmAbrSsG"
      },
      "outputs": [],
      "source": [
        "import pandas as pd\n",
        "import numpy as np\n",
        "import re\n",
        "import seaborn as sns\n",
        "import warnings\n",
        "import time\n",
        "from fuzzywuzzy import fuzz\n",
        "from fuzzywuzzy import process\n",
        "warnings.filterwarnings('ignore')\n",
        "\n",
        "# Import libraries for visualization and set default values.\n",
        "import matplotlib.pyplot as plt\n",
        "plt.style.use(['seaborn'])\n",
        "sns.set_theme(style=\"whitegrid\", palette=sns.color_palette(\"tab10\"))"
      ]
    },
    {
      "cell_type": "markdown",
      "metadata": {
        "id": "xXwuAVj2rSsJ"
      },
      "source": [
        "# 2. Load Dataset\n",
        "---"
      ]
    },
    {
      "cell_type": "code",
      "execution_count": null,
      "metadata": {
        "id": "pRD3X0j2rSsL"
      },
      "outputs": [],
      "source": [
        "path='..\\DATA.xlsx'\n",
        "data_df=pd.read_excel(path, usecols=[\"\"] )"
      ]
    },
    {
      "cell_type": "code",
      "execution_count": null,
      "metadata": {
        "id": "gT-EJStlrSsL"
      },
      "outputs": [],
      "source": [
        "data_df.head()"
      ]
    },
    {
      "cell_type": "code",
      "execution_count": null,
      "metadata": {
        "id": "T-UX377JrSsM"
      },
      "outputs": [],
      "source": [
        "data_df.info()"
      ]
    },
    {
      "cell_type": "markdown",
      "metadata": {
        "id": "O9H0Qlb-rSsM"
      },
      "source": [
        "# 3. Cleaning"
      ]
    },
    {
      "cell_type": "code",
      "execution_count": null,
      "metadata": {
        "id": "EDlF_E1_rSsN"
      },
      "outputs": [],
      "source": [
        "pre_categorical_data = [\"AREA\", \"VARIEDAD\", \"EDAD\", \"Corte\"]"
      ]
    },
    {
      "cell_type": "code",
      "execution_count": null,
      "metadata": {
        "id": "-lJKLsz9rSsN"
      },
      "outputs": [],
      "source": [
        "data_df[pre_categorical_data]"
      ]
    },
    {
      "cell_type": "markdown",
      "metadata": {
        "id": "EK4q2drdrSsO"
      },
      "source": [
        "Some attributes have the wrong type or have typos. Let's fix them"
      ]
    },
    {
      "cell_type": "code",
      "execution_count": null,
      "metadata": {
        "id": "o8e3fye4rSsO"
      },
      "outputs": [],
      "source": [
        "def replace_matches_in_column(df, column, string_to_match, min_ratio):\n",
        "    # get a list of unique strings\n",
        "    strings = df[column].unique()\n",
        "    matches = process.extract(string_to_match, strings,\n",
        "                                         limit=10, scorer=fuzz.token_sort_ratio)\n",
        "    close_matches = [matches[0] for matches in matches if matches[1] >= min_ratio]\n",
        "    rows_with_matches = df[column].isin(close_matches)\n",
        "    df.loc[rows_with_matches, column] = string_to_match\n",
        "    print(\"All done!\")"
      ]
    },
    {
      "cell_type": "code",
      "execution_count": null,
      "metadata": {
        "id": "pEd-nBh0rSsO"
      },
      "outputs": [],
      "source": [
        "replace_matches_in_column(data_df, 'Corte', 'c', 90)\n",
        "replace_matches_in_column(data_df, 'Corte', 'plant', 80)\n",
        "data_df[\"Corte\"] = data_df[\"Corte\"].replace(['6d', 'ptlla', '2'],['6.0', 'Plantilla', '2.0'])"
      ]
    },
    {
      "cell_type": "code",
      "execution_count": null,
      "metadata": {
        "id": "_5g_sP-crSsP"
      },
      "outputs": [],
      "source": [
        "data_df[\"EDAD\"] = pd.to_numeric(data_df.EDAD.astype(str).apply(lambda x:\"\".join(i for i in x if i.isdigit() or i==\".\")), errors='coerce')\n",
        "data_df[\"AREA\"] = pd.to_numeric(data_df.AREA.astype(str).apply(lambda x:\"\".join(i for i in x if ~i.isdigit() or i=='.')), errors='coerce')"
      ]
    },
    {
      "cell_type": "markdown",
      "metadata": {
        "id": "m4C9sR8jrSsP"
      },
      "source": [
        "## Missing values"
      ]
    },
    {
      "cell_type": "markdown",
      "metadata": {
        "id": "ynZ7ozVurSsP"
      },
      "source": [
        "Let's check if there are missing values in the dataset"
      ]
    },
    {
      "cell_type": "code",
      "execution_count": null,
      "metadata": {
        "id": "QC-oxQG3rSsP"
      },
      "outputs": [],
      "source": [
        "missing_values = data_df.isna().sum() / len(scylv_df)\n",
        "missing_values = missing_values[missing_values > 0]*100\n",
        "missing_values.sort_values(inplace=True, ascending=False)\n",
        "sns.barplot(x=missing_values, y=missing_values.index)\n",
        "plt.title(\"Missing values in %\")\n",
        "plt.xlabel(\"Percentage %\")\n",
        "plt.ylabel(\"Features\")\n"
      ]
    },
    {
      "cell_type": "markdown",
      "metadata": {
        "id": "f8N07PwzrSsP"
      },
      "source": [
        "There are almost no missing values. We replace the missing values with the mean of the column or the mode of the column(categorical)."
      ]
    },
    {
      "cell_type": "markdown",
      "metadata": {
        "id": "Z6nlGLPdrSsP"
      },
      "source": [
        "# 4. Exploratory data analysis\n"
      ]
    },
    {
      "cell_type": "code",
      "execution_count": null,
      "metadata": {
        "id": "6N5yxrQfrSsP"
      },
      "outputs": [],
      "source": [
        "corrMatrix = data_df.corr()\n",
        "fig, ax = plt.subplots(figsize=(18,10))\n",
        "sns.heatmap(corrMatrix, annot=True, fmt='.2f')"
      ]
    },
    {
      "cell_type": "markdown",
      "metadata": {
        "id": "l975HlHnrSsQ"
      },
      "source": [
        "As we can see, SEM. and COM. are the opposite, so we can drop one of them."
      ]
    },
    {
      "cell_type": "code",
      "execution_count": null,
      "metadata": {
        "id": "ZIybI2xTrSsQ"
      },
      "outputs": [],
      "source": [
        "CrosstabResult=pd.crosstab(index=scylv_df[' SEM.'],columns=scylv_df['COM.'])\n",
        "CrosstabResult.plot.bar()\n",
        "data_df = data_df.drop([' SEM.'], axis=1)"
      ]
    },
    {
      "cell_type": "markdown",
      "metadata": {
        "id": "NQUl0wsLrSsQ"
      },
      "source": [
        "Tm and Tmax are highly correlated so we can drop one of them."
      ]
    },
    {
      "cell_type": "code",
      "execution_count": null,
      "metadata": {
        "id": "JEVA9cxNrSsQ"
      },
      "outputs": [],
      "source": [
        "fig, ax = plt.subplots(figsize=(18,10), nrows=2)\n",
        "ax[0].plot(data_df['Tmax'], label = 'Tmax')\n",
        "ax[0].plot(data_df['Tm'], label = 'Tm')\n",
        "ax[0].set_ylabel('Celsius degrees')\n",
        "ax[0].legend()\n",
        "ax[1].scatter(data_df['Tm'], scylv_df['Tmax'])\n",
        "ax[1].set_xlabel('Tm')\n",
        "ax[1].set_ylabel('Tmax')\n",
        "\n",
        "data_df = data_df.drop(['Tmax'], axis=1)"
      ]
    },
    {
      "cell_type": "markdown",
      "metadata": {
        "id": "KHY2SufCrSsQ"
      },
      "source": [
        "Not enough correlation to drop any of them."
      ]
    },
    {
      "cell_type": "code",
      "execution_count": null,
      "metadata": {
        "id": "9Cvauaf2rSsQ"
      },
      "outputs": [],
      "source": [
        "plt.scatter(data_df['V_viento'], data_df['P_vaporw'])\n",
        "plt.xlabel('V_viento')\n",
        "plt.ylabel('P_vaporw')"
      ]
    },
    {
      "cell_type": "code",
      "execution_count": null,
      "metadata": {
        "id": "wmZCFA6WrSsQ"
      },
      "outputs": [],
      "source": [
        "numerical = ['EDAD', 'NDVI', 'pH', 'Da', 'CO', 'Altitud', 'CIC', 'PPT', 'AREA',  'S_rad', 'Tm', 'Tmin', 'P_vaporw', 'V_viento', 'Arena', 'fragmentos', 'Arcilla', 'Nitrogeno']\n",
        "f, axes = plt.subplots(6, 3, figsize=(20, 35))\n",
        "colors = sns.color_palette(\"bright\")\n",
        "i=0\n",
        "for ax, feature in zip(axes.flat, numerical):\n",
        "    ax.grid(False)\n",
        "    sns.kdeplot(data=scylv_df, x=feature, ax=ax, color= colors[i%10], label=feature)\n",
        "    ax.set_xlabel('')\n",
        "    ax.set_ylabel('')\n",
        "    ax.legend()\n",
        "    i+=1\n"
      ]
    },
    {
      "cell_type": "code",
      "execution_count": null,
      "metadata": {
        "id": "8OpR-qJvrSsQ"
      },
      "outputs": [],
      "source": [
        "data_df.to_csv('..\\cleaned_data.csv', index=False)"
      ]
    },
    {
      "cell_type": "code",
      "execution_count": null,
      "metadata": {
        "id": "njOEYvPYrSsQ"
      },
      "outputs": [],
      "source": []
    }
  ],
  "metadata": {
    "kernelspec": {
      "display_name": "env",
      "language": "python",
      "name": "python3"
    },
    "language_info": {
      "codemirror_mode": {
        "name": "ipython",
        "version": 3
      },
      "file_extension": ".py",
      "mimetype": "text/x-python",
      "name": "python",
      "nbconvert_exporter": "python",
      "pygments_lexer": "ipython3",
      "version": "3.9.13"
    },
    "orig_nbformat": 4,
    "vscode": {
      "interpreter": {
        "hash": "a14eb5b487c9b3122d8ada72316180254a89d66145cd352bd8d20ff52d5c4292"
      }
    },
    "colab": {
      "provenance": []
    }
  },
  "nbformat": 4,
  "nbformat_minor": 0
}