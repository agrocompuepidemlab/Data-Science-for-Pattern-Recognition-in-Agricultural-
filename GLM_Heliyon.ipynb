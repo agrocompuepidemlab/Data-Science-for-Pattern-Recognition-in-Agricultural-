{
  "nbformat": 4,
  "nbformat_minor": 0,
  "metadata": {
    "colab": {
      "provenance": []
    },
    "kernelspec": {
      "name": "python3",
      "display_name": "Python 3"
    },
    "language_info": {
      "name": "python"
    }
  },
  "cells": [
    {
      "cell_type": "code",
      "source": [
        "import pandas as pd\n",
        "import seaborn as sns\n",
        "import numpy as np\n",
        "import matplotlib.pyplot as plt\n",
        "import seaborn as sns\n",
        "import plotly.graph_objects as go\n",
        "import plotly.express as px\n",
        "plt.style.use(['seaborn'])\n",
        "\n",
        "from sklearn.model_selection import train_test_split\n",
        "import statsmodels.api as sm\n",
        "import statsmodels.formula.api as smf\n",
        "from statsmodels.regression.mixed_linear_model import MixedLM, MixedLMResults\n",
        "from sklearn.metrics import r2_score, mean_absolute_error\n",
        "from scipy.stats import normaltest\n",
        "from sklearn.preprocessing import quantile_transform\n",
        "\n",
        "np.random.seed(42)"
      ],
      "metadata": {
        "id": "gydLBKyZI9GI"
      },
      "execution_count": null,
      "outputs": []
    },
    {
      "cell_type": "code",
      "execution_count": null,
      "metadata": {
        "id": "ZyIdCX9UIgV6"
      },
      "outputs": [],
      "source": [
        "from google.colab import drive\n",
        "drive.mount('/content/drive')"
      ]
    },
    {
      "cell_type": "code",
      "source": [
        "path='/DATA.xlsx'\n",
        "soil_data_final=pd.read_excel(path)"
      ],
      "metadata": {
        "id": "ZQBPVrNfI0dG"
      },
      "execution_count": null,
      "outputs": []
    },
    {
      "cell_type": "code",
      "execution_count": null,
      "metadata": {
        "id": "IiRIGGz4AcTa"
      },
      "outputs": [],
      "source": [
        "fig, ax = plt.subplots(1,3,figsize=(25,10))\n",
        "ax[0].hist(soil_data_final['Sac'], color='r')\n",
        "ax[0].set_title('Histogram of Sac')\n",
        "ax[1].hist(soil_data_final['Sac % Caña'],color='g')\n",
        "ax[1].set_title('Histogram of Sac % Caña')\n",
        "ax[2].hist(soil_data_final['Sac Campo'])\n",
        "ax[2].set_title('Histogram of Sac Campo')"
      ]
    },
    {
      "cell_type": "code",
      "execution_count": null,
      "metadata": {
        "id": "QTnJUWWtCS4g"
      },
      "outputs": [],
      "source": [
        "def normal_test(target):\n",
        "\tstat, p = normaltest(soil_data_final[target])\n",
        "\talpha =0.05\n",
        "\tif p > alpha:\n",
        "\t\tprint(target + ' looks Gaussian')\n",
        "\telse:\n",
        "\t\tprint(target + ' does not look Gaussian')\n",
        "normal_test('Sac')\n",
        "normal_test('Sac % Caña')\n",
        "normal_test('Sac Campo')"
      ]
    },
    {
      "cell_type": "markdown",
      "metadata": {
        "id": "150bCFuEEnK0"
      },
      "source": [
        "There is no conclusion about the normality.\n",
        "\n",
        "Using preprocessing techniques such as *Quantile transformation* we can normalize our targets."
      ]
    },
    {
      "cell_type": "code",
      "execution_count": null,
      "metadata": {
        "id": "tkAdVateIG-n"
      },
      "outputs": [],
      "source": [
        "def normalization(target):\n",
        "    y=soil_data_final[target]\n",
        "    y_trans = quantile_transform(y.to_frame(), output_distribution=\"normal\", copy=True)\n",
        "    return y_trans\n",
        "\n",
        "soil_data_final['sac_trans'] = normalization('Sac')\n",
        "soil_data_final['sac_caña_trans']= normalization('Sac % Caña')\n",
        "soil_data_final['sac_campo_trans'] = normalization('Sac Campo')"
      ]
    },
    {
      "cell_type": "code",
      "execution_count": null,
      "metadata": {
        "id": "FXP4MlZUIZgm"
      },
      "outputs": [],
      "source": [
        "# fig, ax = plt.subplots(1,3,figsize=(25,10))\n",
        "# ax[0].hist(soil_data_final['sac_trans'], color='r')\n",
        "# ax[0].set_title('Histogram of Sac after transformation')\n",
        "# ax[1].hist(soil_data_final['sac_caña_trans'],color='g')\n",
        "# ax[1].set_title('Histogram of Sac % Caña after transformation')\n",
        "# ax[2].hist(soil_data_final['sac_campo_trans'])\n",
        "# ax[2].set_title('Histogram of Sac Campo after transformation')"
      ]
    },
    {
      "cell_type": "markdown",
      "source": [
        "Info about target variables after the transformation"
      ],
      "metadata": {
        "id": "ZGJ7eSZYtnxx"
      }
    },
    {
      "cell_type": "code",
      "source": [
        "# soil_data_final[['sac_trans', 'sac_campo_trans', 'sac_caña_trans']].describe()"
      ],
      "metadata": {
        "id": "cwcGqABFtZ1L"
      },
      "execution_count": null,
      "outputs": []
    },
    {
      "cell_type": "markdown",
      "source": [
        "Testing normality"
      ],
      "metadata": {
        "id": "4jFm2J5ouCvb"
      }
    },
    {
      "cell_type": "code",
      "execution_count": null,
      "metadata": {
        "id": "CuAMhgZVHQC3"
      },
      "outputs": [],
      "source": [
        "# normal_test('sac_trans')\n",
        "# normal_test('sac_caña_trans')\n",
        "# normal_test('sac_campo_trans')"
      ]
    },
    {
      "cell_type": "markdown",
      "source": [
        "Our targets seem more normal."
      ],
      "metadata": {
        "id": "vjVWcLarxT2R"
      }
    },
    {
      "cell_type": "code",
      "source": [
        "[x.replace(' ','_') for x in soil_data_final.columns.tolist()]"
      ],
      "metadata": {
        "id": "9-6D7hLBv1ZG"
      },
      "execution_count": null,
      "outputs": []
    },
    {
      "cell_type": "code",
      "source": [
        "soil_data_final.drop(['Sac', 'Sac % Caña', 'Sac Campo'], axis=1, inplace=True)\n",
        "soil_data_final.columns = [x.replace(' ','_') for x in soil_data_final.columns.tolist()]\n",
        "data_train, data_test = train_test_split(soil_data_final, test_size=0.2)\n",
        "data_train.reset_index(drop=True, inplace=True)\n",
        "data_test.reset_index(drop=True, inplace=True)"
      ],
      "metadata": {
        "id": "kMBbF4AlxhOw"
      },
      "execution_count": null,
      "outputs": []
    },
    {
      "cell_type": "code",
      "source": [
        "data_test.to_csv('data_test.csv')"
      ],
      "metadata": {
        "id": "X3d1PIKHwNJy"
      },
      "execution_count": null,
      "outputs": []
    },
    {
      "cell_type": "code",
      "source": [
        "def formula_from_cols(columns, y, targets, groups):\n",
        "    return y + ' ~ ' + ' + '.join([col for col in columns if col not in targets+groups])\n",
        "\n",
        "groups = ['VAR']\n",
        "\n",
        "formula_sac = formula_from_cols(soil_data_final.columns.tolist(),'sac_trans', ['sac_trans','sac_campo_trans','sac_caña_trans'],groups)\n",
        "# formula_sac_campo = formula_from_cols(data_train,'sac_campo_trans', ['sac_trans','sac_campo_trans','sac_caña_trans'],groups)\n",
        "# formula_sac_caña = formula_from_cols(data_train,'sac_caña_trans', ['sac_trans','sac_campo_trans','sac_caña_trans'])"
      ],
      "metadata": {
        "id": "1YdxNoWRmlKg"
      },
      "execution_count": null,
      "outputs": []
    },
    {
      "cell_type": "code",
      "source": [
        "!pip install rpy2"
      ],
      "metadata": {
        "id": "w49l0zUYM3FY"
      },
      "execution_count": null,
      "outputs": []
    },
    {
      "cell_type": "code",
      "source": [
        "from rpy2.robjects import r"
      ],
      "metadata": {
        "id": "ujw2CddGM8me"
      },
      "execution_count": null,
      "outputs": []
    },
    {
      "cell_type": "code",
      "source": [
        "r('print(')"
      ],
      "metadata": {
        "id": "VEwdVMCuNE0Z"
      },
      "execution_count": null,
      "outputs": []
    },
    {
      "cell_type": "code",
      "source": [
        "mixed_model_sac = smf.mixedlm(formula_sac, data_train, groups=data_train[]).fit()\n",
        "# mixed_model_sac_campo = smf.glm(formula_sac_campo, data_train).fit()\n",
        "# mixed_model_sac_caña = smf.glm(formula_sac_caña, data_train).fit()"
      ],
      "metadata": {
        "id": "1uPK-qfpotyS"
      },
      "execution_count": null,
      "outputs": []
    },
    {
      "cell_type": "code",
      "source": [
        "def plot_series(time, series,i,axis, format=\"-\", start=0, end=None):\n",
        "    #plt.figure(figsize=(20,10))\n",
        "    axis.plot(time[start:end], series[start:end], format,label=i)\n",
        "    # axis.set_xlabel(\"Unseen Samples\")\n",
        "    # axis.set_ylabel(\"Saccharose Field\")\n",
        "    axis.legend()"
      ],
      "metadata": {
        "id": "POC7huoMmGui"
      },
      "execution_count": null,
      "outputs": []
    },
    {
      "cell_type": "code",
      "source": [
        "mixed_model_sac.predict(data_test)"
      ],
      "metadata": {
        "id": "4yeY_fyMopbO"
      },
      "execution_count": null,
      "outputs": []
    },
    {
      "cell_type": "code",
      "source": [
        "data_test.reset_index(inplace=True)\n",
        "fig, ax = plt.subplots(3,1,figsize=(25,15), sharex=True)\n",
        "plot_series(data_test.index, data_test['sac_trans'], \"True\", ax[0])\n",
        "plot_series(data_test.index, mixed_model_sac.predict(data_test.drop(['sac_campo_trans','sac_trans','sac_caña_trans'], axis=1)),'Predicted',ax[0])\n",
        "ax[0].set_title('Sac true vs predicted')"
      ],
      "metadata": {
        "id": "-xXjRwgUmbox"
      },
      "execution_count": null,
      "outputs": []
    },
    {
      "cell_type": "code",
      "source": [
        "mixed_model_sac = smf.mixedlm(formula_sac, data_train, groups=data_train['VAR']).fit()"
      ],
      "metadata": {
        "id": "TvZO_PZfsObI"
      },
      "execution_count": null,
      "outputs": []
    },
    {
      "cell_type": "code",
      "source": [
        "mixed_model_sac.summary()"
      ],
      "metadata": {
        "id": "bo-MmucHgiuL"
      },
      "execution_count": null,
      "outputs": []
    },
    {
      "cell_type": "code",
      "source": [
        "formula_sac"
      ],
      "metadata": {
        "id": "IuGcBiCCnJfR"
      },
      "execution_count": null,
      "outputs": []
    },
    {
      "cell_type": "code",
      "source": [
        "x = data_train.drop(['sac_trans'], axis=1)\n",
        "y = data_train['sac_trans']\n",
        "x = sm.add_constant(x)"
      ],
      "metadata": {
        "id": "U9KJW9PEtivh"
      },
      "execution_count": null,
      "outputs": []
    },
    {
      "cell_type": "code",
      "source": [
        "one_hot_vars = ['tmprda', 'TIPO COS','Con Sin Mad', 'nm_cndcion', 'PRODUCTO', 'VAR']\n",
        "data_proccessed = pd.get_dummies(soil_data_final, columns = one_hot_vars)\n",
        "data_proccessed = data_proccessed.drop(['TIPO COS_manual','Con Sin Mad_Sin Mad'], axis=1)   #variables who are binary are deleted and keep only one.\n",
        "possible_targets = ['Sac', 'Sac Campo', 'Sac % Caña']\n",
        "y = data_proccessed[possible_targets]\n",
        "X = data_proccessed.drop(possible_targets, axis=1)\n",
        "X = sm.add_constant(X) #add 1 to match bias later\n",
        "X_train, X_test, y_train, y_test = train_test_split(X, y, test_size=0.2) #split data into training and testing(20%)\n",
        "X_train.reset_index(drop=True, inplace=True)\n",
        "X_test.reset_index(drop=True, inplace=True)\n",
        "y_train.reset_index(drop=True, inplace=True)\n",
        "y_test.reset_index(drop=True, inplace=True)"
      ],
      "metadata": {
        "id": "u_DIYVLHt0T5"
      },
      "execution_count": null,
      "outputs": []
    },
    {
      "cell_type": "code",
      "source": [
        "sns.clustermap(soil_data_final.corr())"
      ],
      "metadata": {
        "id": "EtldKyChx0Qc"
      },
      "execution_count": null,
      "outputs": []
    },
    {
      "cell_type": "code",
      "source": [
        "mixed = MixedLM(y_train['Sac'], X_train, groups=X_train['Pza']).fit()"
      ],
      "metadata": {
        "id": "ZdAHFuAPnKEN"
      },
      "execution_count": null,
      "outputs": []
    },
    {
      "cell_type": "code",
      "source": [
        "pred_sac = mixed.predict(X_test)\n",
        "fig, ax = plt.subplots(3,1,figsize=(25,15), sharex=True)\n",
        "plot_series(y_test.index, y_test['sac_trans'], \"True\", ax[0])\n",
        "plot_series(y_test.index, pred_sac_,'Predicted',ax[0])\n",
        "ax[0].set_title('Sac true vs predicted')"
      ],
      "metadata": {
        "id": "3IvvkQOxvXKo"
      },
      "execution_count": null,
      "outputs": []
    },
    {
      "cell_type": "code",
      "source": [
        "y_train.describe()"
      ],
      "metadata": {
        "id": "WKX34OODvuxW"
      },
      "execution_count": null,
      "outputs": []
    },
    {
      "cell_type": "code",
      "source": [],
      "metadata": {
        "id": "G8TBoJ1I-7CI"
      },
      "execution_count": null,
      "outputs": []
    }
  ]
}